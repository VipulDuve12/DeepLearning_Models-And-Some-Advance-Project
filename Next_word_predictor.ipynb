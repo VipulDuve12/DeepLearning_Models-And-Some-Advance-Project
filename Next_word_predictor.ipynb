{
  "nbformat": 4,
  "nbformat_minor": 0,
  "metadata": {
    "colab": {
      "provenance": []
    },
    "kernelspec": {
      "name": "python3",
      "display_name": "Python 3"
    },
    "language_info": {
      "name": "python"
    }
  },
  "cells": [
    {
      "cell_type": "code",
      "execution_count": 1,
      "metadata": {
        "id": "X-7s_2jV0Zui"
      },
      "outputs": [],
      "source": [
        "text = \"\"\"The integration of Artificial Intelligence (AI) into education has emerged as one of the most transformative developments of the 21st century. In 2025, AI's role in the classroom, educational administration, and curriculum design continues to expand, offering both remarkable opportunities and complex challenges. As schools and universities incorporate AI-powered tools, society faces a critical juncture: how to responsibly and ethically use AI to enhance learning while preserving the essential human aspects of education. This essay explores the depth of this integration, discussing the benefits, potential pitfalls, and ethical concerns surrounding AI in education, all within the context of modern advancements.\n",
        "AI technologies are being utilized in multiple facets of education. Personalized learning platforms adapt lessons to individual student needs, providing tailored feedback and pacing that can accommodate a wide variety of learners. This ability to customize instruction helps students who struggle in traditional classrooms and offers accelerated paths for advanced learners. Additionally, AI tools such as intelligent tutoring systems simulate one-on-one instruction, often producing better outcomes than traditional methods. Language learning apps, math solvers, and essay analysis tools all leverage AI to make learning more interactive and effective.\n",
        "Administrative tasks have also seen significant transformation. AI automates routine jobs like grading multiple-choice exams, monitoring student performance metrics, scheduling, and responding to frequently asked questions. This automation allows educators to devote more time to student engagement and curriculum development. Institutions benefit from increased operational efficiency, cost savings, and streamlined communication between staff, students, and parents. AI chatbots, for instance, can provide 24/7 support to students, answering questions about assignments, deadlines, or resources, which enhances the overall educational experience.\n",
        "Despite the advantages, AI in education raises pressing ethical concerns. One of the most immediate issues is academic integrity. With the proliferation of AI-generated content, distinguishing between a student’s original work and machine-produced responses becomes challenging. This blurs the lines of plagiarism and prompts educational institutions to rethink assessment strategies. Open-ended questions, oral exams, and project-based assessments are gaining prominence as educators seek methods that cannot be easily completed by AI tools.\n",
        "Data privacy is another major concern. AI systems require extensive data to function effectively, including personal details, learning patterns, and behavioral data of students. Without proper regulation, this sensitive information could be misused or breached. Many educational institutions now face the dual responsibility of utilizing data for academic growth while ensuring robust cybersecurity protocols. Parental consent, student anonymity, and data transparency are becoming focal points in discussions around AI ethics.\n",
        "Bias in AI algorithms also poses a risk to equitable education. If training data is skewed or lacks diversity, the AI systems can produce biased outputs, disadvantaging certain groups of students. For example, facial recognition systems may perform poorly for individuals with darker skin tones if not adequately trained. Similarly, recommendation algorithms may favor dominant cultural perspectives, thereby marginalizing minority voices. To counter this, inclusive data sets and diverse development teams are essential.\n",
        "Teachers and students are both affected by AI's growing presence. Educators must adapt to new roles, transitioning from information deliverers to facilitators of learning who guide students in critical thinking, creativity, and ethical tech use. Continuous professional development is necessary to equip teachers with skills to integrate AI tools effectively. Meanwhile, students benefit from increased engagement and autonomy in learning but may also become overly reliant on technology. Maintaining a balance between human interaction and machine efficiency is crucial.\n",
        "Furthermore, the impact of AI on mental health and social development is still under scrutiny. While AI can provide support for students with special needs or those facing mental health challenges, it cannot replace genuine human empathy and social connection. Virtual classrooms and AI tutors may lack the emotional nuance needed to understand student distress or to foster meaningful peer relationships. Therefore, AI should augment, not replace, the interpersonal elements of education.\n",
        "Governments and educational institutions are developing policies to guide responsible AI use. These policies aim to protect student data, ensure fairness, and promote accountability. In many countries, regulatory bodies are setting standards for transparency, explainability, and ethics in AI applications. There is also a growing emphasis on digital literacy, where students learn not just to use technology but to question it, understand its limitations, and engage with it responsibly.\n",
        "Public-private partnerships are playing a key role in shaping AI's future in education. Technology companies collaborate with schools to pilot new AI tools, gather feedback, and refine algorithms. While these partnerships bring innovation, they also necessitate clear boundaries to prevent commercialization of education and protect student interests. Ethical review boards, transparent contracts, and stakeholder involvement are important to maintaining trust.\n",
        "Looking ahead, the future of AI in education lies in collaboration. Human educators and AI systems can work together to create richer, more inclusive, and more effective learning environments. By focusing on complementarity rather than competition, education systems can ensure that AI supports rather than supplants human expertise. Additionally, there is a need for interdisciplinary research that brings together educators, technologists, psychologists, and ethicists to address the multifaceted implications of AI.\n",
        "Ultimately, the integration of AI into education is not just a technological shift but a cultural and philosophical one. It challenges long-held beliefs about knowledge, learning, and the role of educators. By approaching this transition with thoughtfulness, transparency, and a commitment to equity, society can harness AI's potential to improve education while upholding the values that make learning meaningful. As we continue to explore this new frontier, the central question remains: How can we use AI to not only make education smarter, but also more human?\n",
        "\"\"\""
      ]
    },
    {
      "cell_type": "code",
      "source": [
        "from tensorflow.keras.preprocessing.text import Tokenizer"
      ],
      "metadata": {
        "id": "VFt1BRI50lDf"
      },
      "execution_count": 2,
      "outputs": []
    },
    {
      "cell_type": "code",
      "source": [
        "token = Tokenizer()\n",
        "token.fit_on_texts([text])"
      ],
      "metadata": {
        "id": "2n3RdXru0s6O"
      },
      "execution_count": 3,
      "outputs": []
    },
    {
      "cell_type": "code",
      "source": [
        "token.word_index"
      ],
      "metadata": {
        "colab": {
          "base_uri": "https://localhost:8080/"
        },
        "id": "gDt5rUD-1D0m",
        "outputId": "27d14291-98fc-4fc7-d457-155f434bb5b3"
      },
      "execution_count": 4,
      "outputs": [
        {
          "output_type": "execute_result",
          "data": {
            "text/plain": [
              "{'and': 1,\n",
              " 'to': 2,\n",
              " 'ai': 3,\n",
              " 'the': 4,\n",
              " 'of': 5,\n",
              " 'in': 6,\n",
              " 'education': 7,\n",
              " 'a': 8,\n",
              " 'learning': 9,\n",
              " 'students': 10,\n",
              " 'this': 11,\n",
              " 'are': 12,\n",
              " 'is': 13,\n",
              " 'can': 14,\n",
              " 'for': 15,\n",
              " 'data': 16,\n",
              " 'student': 17,\n",
              " 'with': 18,\n",
              " 'tools': 19,\n",
              " 'human': 20,\n",
              " 'systems': 21,\n",
              " 'also': 22,\n",
              " 'educators': 23,\n",
              " 'as': 24,\n",
              " 'one': 25,\n",
              " 'educational': 26,\n",
              " 'use': 27,\n",
              " 'while': 28,\n",
              " 'that': 29,\n",
              " 'on': 30,\n",
              " 'more': 31,\n",
              " 'or': 32,\n",
              " 'not': 33,\n",
              " \"ai's\": 34,\n",
              " 'ethical': 35,\n",
              " 'development': 36,\n",
              " 'institutions': 37,\n",
              " 'by': 38,\n",
              " 'may': 39,\n",
              " 'but': 40,\n",
              " 'it': 41,\n",
              " 'integration': 42,\n",
              " 'role': 43,\n",
              " 'challenges': 44,\n",
              " 'than': 45,\n",
              " 'make': 46,\n",
              " 'questions': 47,\n",
              " 'from': 48,\n",
              " 'between': 49,\n",
              " 'transparency': 50,\n",
              " 'algorithms': 51,\n",
              " 'new': 52,\n",
              " 'technology': 53,\n",
              " 'into': 54,\n",
              " 'most': 55,\n",
              " 'curriculum': 56,\n",
              " 'both': 57,\n",
              " 'schools': 58,\n",
              " 'society': 59,\n",
              " 'critical': 60,\n",
              " 'how': 61,\n",
              " 'responsibly': 62,\n",
              " 'essential': 63,\n",
              " 'essay': 64,\n",
              " 'potential': 65,\n",
              " 'concerns': 66,\n",
              " 'all': 67,\n",
              " 'multiple': 68,\n",
              " 'adapt': 69,\n",
              " 'needs': 70,\n",
              " 'feedback': 71,\n",
              " 'learners': 72,\n",
              " 'instruction': 73,\n",
              " 'who': 74,\n",
              " 'traditional': 75,\n",
              " 'classrooms': 76,\n",
              " 'additionally': 77,\n",
              " 'methods': 78,\n",
              " 'effective': 79,\n",
              " 'exams': 80,\n",
              " 'engagement': 81,\n",
              " 'benefit': 82,\n",
              " 'increased': 83,\n",
              " 'efficiency': 84,\n",
              " 'provide': 85,\n",
              " 'support': 86,\n",
              " 'about': 87,\n",
              " 'academic': 88,\n",
              " 'work': 89,\n",
              " 'machine': 90,\n",
              " 'cannot': 91,\n",
              " 'be': 92,\n",
              " 'effectively': 93,\n",
              " 'information': 94,\n",
              " 'many': 95,\n",
              " 'ethics': 96,\n",
              " 'if': 97,\n",
              " 'cultural': 98,\n",
              " 'inclusive': 99,\n",
              " 'teachers': 100,\n",
              " 'growing': 101,\n",
              " 'guide': 102,\n",
              " 'maintaining': 103,\n",
              " 'mental': 104,\n",
              " 'health': 105,\n",
              " 'social': 106,\n",
              " 'replace': 107,\n",
              " 'understand': 108,\n",
              " 'meaningful': 109,\n",
              " 'policies': 110,\n",
              " 'these': 111,\n",
              " 'protect': 112,\n",
              " 'ensure': 113,\n",
              " 'there': 114,\n",
              " 'just': 115,\n",
              " 'question': 116,\n",
              " 'partnerships': 117,\n",
              " 'future': 118,\n",
              " 'together': 119,\n",
              " 'rather': 120,\n",
              " 'we': 121,\n",
              " 'artificial': 122,\n",
              " 'intelligence': 123,\n",
              " 'has': 124,\n",
              " 'emerged': 125,\n",
              " 'transformative': 126,\n",
              " 'developments': 127,\n",
              " '21st': 128,\n",
              " 'century': 129,\n",
              " '2025': 130,\n",
              " 'classroom': 131,\n",
              " 'administration': 132,\n",
              " 'design': 133,\n",
              " 'continues': 134,\n",
              " 'expand': 135,\n",
              " 'offering': 136,\n",
              " 'remarkable': 137,\n",
              " 'opportunities': 138,\n",
              " 'complex': 139,\n",
              " 'universities': 140,\n",
              " 'incorporate': 141,\n",
              " 'powered': 142,\n",
              " 'faces': 143,\n",
              " 'juncture': 144,\n",
              " 'ethically': 145,\n",
              " 'enhance': 146,\n",
              " 'preserving': 147,\n",
              " 'aspects': 148,\n",
              " 'explores': 149,\n",
              " 'depth': 150,\n",
              " 'discussing': 151,\n",
              " 'benefits': 152,\n",
              " 'pitfalls': 153,\n",
              " 'surrounding': 154,\n",
              " 'within': 155,\n",
              " 'context': 156,\n",
              " 'modern': 157,\n",
              " 'advancements': 158,\n",
              " 'technologies': 159,\n",
              " 'being': 160,\n",
              " 'utilized': 161,\n",
              " 'facets': 162,\n",
              " 'personalized': 163,\n",
              " 'platforms': 164,\n",
              " 'lessons': 165,\n",
              " 'individual': 166,\n",
              " 'providing': 167,\n",
              " 'tailored': 168,\n",
              " 'pacing': 169,\n",
              " 'accommodate': 170,\n",
              " 'wide': 171,\n",
              " 'variety': 172,\n",
              " 'ability': 173,\n",
              " 'customize': 174,\n",
              " 'helps': 175,\n",
              " 'struggle': 176,\n",
              " 'offers': 177,\n",
              " 'accelerated': 178,\n",
              " 'paths': 179,\n",
              " 'advanced': 180,\n",
              " 'such': 181,\n",
              " 'intelligent': 182,\n",
              " 'tutoring': 183,\n",
              " 'simulate': 184,\n",
              " 'often': 185,\n",
              " 'producing': 186,\n",
              " 'better': 187,\n",
              " 'outcomes': 188,\n",
              " 'language': 189,\n",
              " 'apps': 190,\n",
              " 'math': 191,\n",
              " 'solvers': 192,\n",
              " 'analysis': 193,\n",
              " 'leverage': 194,\n",
              " 'interactive': 195,\n",
              " 'administrative': 196,\n",
              " 'tasks': 197,\n",
              " 'have': 198,\n",
              " 'seen': 199,\n",
              " 'significant': 200,\n",
              " 'transformation': 201,\n",
              " 'automates': 202,\n",
              " 'routine': 203,\n",
              " 'jobs': 204,\n",
              " 'like': 205,\n",
              " 'grading': 206,\n",
              " 'choice': 207,\n",
              " 'monitoring': 208,\n",
              " 'performance': 209,\n",
              " 'metrics': 210,\n",
              " 'scheduling': 211,\n",
              " 'responding': 212,\n",
              " 'frequently': 213,\n",
              " 'asked': 214,\n",
              " 'automation': 215,\n",
              " 'allows': 216,\n",
              " 'devote': 217,\n",
              " 'time': 218,\n",
              " 'operational': 219,\n",
              " 'cost': 220,\n",
              " 'savings': 221,\n",
              " 'streamlined': 222,\n",
              " 'communication': 223,\n",
              " 'staff': 224,\n",
              " 'parents': 225,\n",
              " 'chatbots': 226,\n",
              " 'instance': 227,\n",
              " '24': 228,\n",
              " '7': 229,\n",
              " 'answering': 230,\n",
              " 'assignments': 231,\n",
              " 'deadlines': 232,\n",
              " 'resources': 233,\n",
              " 'which': 234,\n",
              " 'enhances': 235,\n",
              " 'overall': 236,\n",
              " 'experience': 237,\n",
              " 'despite': 238,\n",
              " 'advantages': 239,\n",
              " 'raises': 240,\n",
              " 'pressing': 241,\n",
              " 'immediate': 242,\n",
              " 'issues': 243,\n",
              " 'integrity': 244,\n",
              " 'proliferation': 245,\n",
              " 'generated': 246,\n",
              " 'content': 247,\n",
              " 'distinguishing': 248,\n",
              " 'student’s': 249,\n",
              " 'original': 250,\n",
              " 'produced': 251,\n",
              " 'responses': 252,\n",
              " 'becomes': 253,\n",
              " 'challenging': 254,\n",
              " 'blurs': 255,\n",
              " 'lines': 256,\n",
              " 'plagiarism': 257,\n",
              " 'prompts': 258,\n",
              " 'rethink': 259,\n",
              " 'assessment': 260,\n",
              " 'strategies': 261,\n",
              " 'open': 262,\n",
              " 'ended': 263,\n",
              " 'oral': 264,\n",
              " 'project': 265,\n",
              " 'based': 266,\n",
              " 'assessments': 267,\n",
              " 'gaining': 268,\n",
              " 'prominence': 269,\n",
              " 'seek': 270,\n",
              " 'easily': 271,\n",
              " 'completed': 272,\n",
              " 'privacy': 273,\n",
              " 'another': 274,\n",
              " 'major': 275,\n",
              " 'concern': 276,\n",
              " 'require': 277,\n",
              " 'extensive': 278,\n",
              " 'function': 279,\n",
              " 'including': 280,\n",
              " 'personal': 281,\n",
              " 'details': 282,\n",
              " 'patterns': 283,\n",
              " 'behavioral': 284,\n",
              " 'without': 285,\n",
              " 'proper': 286,\n",
              " 'regulation': 287,\n",
              " 'sensitive': 288,\n",
              " 'could': 289,\n",
              " 'misused': 290,\n",
              " 'breached': 291,\n",
              " 'now': 292,\n",
              " 'face': 293,\n",
              " 'dual': 294,\n",
              " 'responsibility': 295,\n",
              " 'utilizing': 296,\n",
              " 'growth': 297,\n",
              " 'ensuring': 298,\n",
              " 'robust': 299,\n",
              " 'cybersecurity': 300,\n",
              " 'protocols': 301,\n",
              " 'parental': 302,\n",
              " 'consent': 303,\n",
              " 'anonymity': 304,\n",
              " 'becoming': 305,\n",
              " 'focal': 306,\n",
              " 'points': 307,\n",
              " 'discussions': 308,\n",
              " 'around': 309,\n",
              " 'bias': 310,\n",
              " 'poses': 311,\n",
              " 'risk': 312,\n",
              " 'equitable': 313,\n",
              " 'training': 314,\n",
              " 'skewed': 315,\n",
              " 'lacks': 316,\n",
              " 'diversity': 317,\n",
              " 'produce': 318,\n",
              " 'biased': 319,\n",
              " 'outputs': 320,\n",
              " 'disadvantaging': 321,\n",
              " 'certain': 322,\n",
              " 'groups': 323,\n",
              " 'example': 324,\n",
              " 'facial': 325,\n",
              " 'recognition': 326,\n",
              " 'perform': 327,\n",
              " 'poorly': 328,\n",
              " 'individuals': 329,\n",
              " 'darker': 330,\n",
              " 'skin': 331,\n",
              " 'tones': 332,\n",
              " 'adequately': 333,\n",
              " 'trained': 334,\n",
              " 'similarly': 335,\n",
              " 'recommendation': 336,\n",
              " 'favor': 337,\n",
              " 'dominant': 338,\n",
              " 'perspectives': 339,\n",
              " 'thereby': 340,\n",
              " 'marginalizing': 341,\n",
              " 'minority': 342,\n",
              " 'voices': 343,\n",
              " 'counter': 344,\n",
              " 'sets': 345,\n",
              " 'diverse': 346,\n",
              " 'teams': 347,\n",
              " 'affected': 348,\n",
              " 'presence': 349,\n",
              " 'must': 350,\n",
              " 'roles': 351,\n",
              " 'transitioning': 352,\n",
              " 'deliverers': 353,\n",
              " 'facilitators': 354,\n",
              " 'thinking': 355,\n",
              " 'creativity': 356,\n",
              " 'tech': 357,\n",
              " 'continuous': 358,\n",
              " 'professional': 359,\n",
              " 'necessary': 360,\n",
              " 'equip': 361,\n",
              " 'skills': 362,\n",
              " 'integrate': 363,\n",
              " 'meanwhile': 364,\n",
              " 'autonomy': 365,\n",
              " 'become': 366,\n",
              " 'overly': 367,\n",
              " 'reliant': 368,\n",
              " 'balance': 369,\n",
              " 'interaction': 370,\n",
              " 'crucial': 371,\n",
              " 'furthermore': 372,\n",
              " 'impact': 373,\n",
              " 'still': 374,\n",
              " 'under': 375,\n",
              " 'scrutiny': 376,\n",
              " 'special': 377,\n",
              " 'those': 378,\n",
              " 'facing': 379,\n",
              " 'genuine': 380,\n",
              " 'empathy': 381,\n",
              " 'connection': 382,\n",
              " 'virtual': 383,\n",
              " 'tutors': 384,\n",
              " 'lack': 385,\n",
              " 'emotional': 386,\n",
              " 'nuance': 387,\n",
              " 'needed': 388,\n",
              " 'distress': 389,\n",
              " 'foster': 390,\n",
              " 'peer': 391,\n",
              " 'relationships': 392,\n",
              " 'therefore': 393,\n",
              " 'should': 394,\n",
              " 'augment': 395,\n",
              " 'interpersonal': 396,\n",
              " 'elements': 397,\n",
              " 'governments': 398,\n",
              " 'developing': 399,\n",
              " 'responsible': 400,\n",
              " 'aim': 401,\n",
              " 'fairness': 402,\n",
              " 'promote': 403,\n",
              " 'accountability': 404,\n",
              " 'countries': 405,\n",
              " 'regulatory': 406,\n",
              " 'bodies': 407,\n",
              " 'setting': 408,\n",
              " 'standards': 409,\n",
              " 'explainability': 410,\n",
              " 'applications': 411,\n",
              " 'emphasis': 412,\n",
              " 'digital': 413,\n",
              " 'literacy': 414,\n",
              " 'where': 415,\n",
              " 'learn': 416,\n",
              " 'its': 417,\n",
              " 'limitations': 418,\n",
              " 'engage': 419,\n",
              " 'public': 420,\n",
              " 'private': 421,\n",
              " 'playing': 422,\n",
              " 'key': 423,\n",
              " 'shaping': 424,\n",
              " 'companies': 425,\n",
              " 'collaborate': 426,\n",
              " 'pilot': 427,\n",
              " 'gather': 428,\n",
              " 'refine': 429,\n",
              " 'bring': 430,\n",
              " 'innovation': 431,\n",
              " 'they': 432,\n",
              " 'necessitate': 433,\n",
              " 'clear': 434,\n",
              " 'boundaries': 435,\n",
              " 'prevent': 436,\n",
              " 'commercialization': 437,\n",
              " 'interests': 438,\n",
              " 'review': 439,\n",
              " 'boards': 440,\n",
              " 'transparent': 441,\n",
              " 'contracts': 442,\n",
              " 'stakeholder': 443,\n",
              " 'involvement': 444,\n",
              " 'important': 445,\n",
              " 'trust': 446,\n",
              " 'looking': 447,\n",
              " 'ahead': 448,\n",
              " 'lies': 449,\n",
              " 'collaboration': 450,\n",
              " 'create': 451,\n",
              " 'richer': 452,\n",
              " 'environments': 453,\n",
              " 'focusing': 454,\n",
              " 'complementarity': 455,\n",
              " 'competition': 456,\n",
              " 'supports': 457,\n",
              " 'supplants': 458,\n",
              " 'expertise': 459,\n",
              " 'need': 460,\n",
              " 'interdisciplinary': 461,\n",
              " 'research': 462,\n",
              " 'brings': 463,\n",
              " 'technologists': 464,\n",
              " 'psychologists': 465,\n",
              " 'ethicists': 466,\n",
              " 'address': 467,\n",
              " 'multifaceted': 468,\n",
              " 'implications': 469,\n",
              " 'ultimately': 470,\n",
              " 'technological': 471,\n",
              " 'shift': 472,\n",
              " 'philosophical': 473,\n",
              " 'long': 474,\n",
              " 'held': 475,\n",
              " 'beliefs': 476,\n",
              " 'knowledge': 477,\n",
              " 'approaching': 478,\n",
              " 'transition': 479,\n",
              " 'thoughtfulness': 480,\n",
              " 'commitment': 481,\n",
              " 'equity': 482,\n",
              " 'harness': 483,\n",
              " 'improve': 484,\n",
              " 'upholding': 485,\n",
              " 'values': 486,\n",
              " 'continue': 487,\n",
              " 'explore': 488,\n",
              " 'frontier': 489,\n",
              " 'central': 490,\n",
              " 'remains': 491,\n",
              " 'only': 492,\n",
              " 'smarter': 493}"
            ]
          },
          "metadata": {},
          "execution_count": 4
        }
      ]
    },
    {
      "cell_type": "code",
      "source": [
        "input_sequence = []\n",
        "for sen in text.split(\".\"):\n",
        "  tokenized_sentence = token.texts_to_sequences([sen])[0]\n",
        "\n",
        "  for i in range(1,len(tokenized_sentence)):\n",
        "    input_sequence.append(tokenized_sentence[:i+1])"
      ],
      "metadata": {
        "id": "-dILZUba1FpF"
      },
      "execution_count": 5,
      "outputs": []
    },
    {
      "cell_type": "code",
      "source": [
        "max_len = max([len(x) for x in input_sequence])\n",
        "max_len"
      ],
      "metadata": {
        "colab": {
          "base_uri": "https://localhost:8080/"
        },
        "id": "lO6_PIaG1O_W",
        "outputId": "bbe9978c-6952-4e29-b268-f0f7fcab5213"
      },
      "execution_count": 6,
      "outputs": [
        {
          "output_type": "execute_result",
          "data": {
            "text/plain": [
              "31"
            ]
          },
          "metadata": {},
          "execution_count": 6
        }
      ]
    },
    {
      "cell_type": "code",
      "source": [
        "# Padding\n",
        "\n",
        "\n",
        "from tensorflow.keras.preprocessing.sequence import pad_sequences\n",
        "padded_sequence = pad_sequences(input_sequence, maxlen = max_len, padding = 'pre')"
      ],
      "metadata": {
        "id": "PyhRLXOI2Ubc"
      },
      "execution_count": 7,
      "outputs": []
    },
    {
      "cell_type": "code",
      "source": [
        "padded_sequence"
      ],
      "metadata": {
        "colab": {
          "base_uri": "https://localhost:8080/"
        },
        "id": "aGH6iL8a3zpD",
        "outputId": "b330016d-ba35-4765-8060-9493cb2d7cfe"
      },
      "execution_count": 8,
      "outputs": [
        {
          "output_type": "execute_result",
          "data": {
            "text/plain": [
              "array([[  0,   0,   0, ...,   0,   4,  42],\n",
              "       [  0,   0,   0, ...,   4,  42,   5],\n",
              "       [  0,   0,   0, ...,  42,   5, 122],\n",
              "       ...,\n",
              "       [  0,   0,   0, ..., 493,  40,  22],\n",
              "       [  0,   0,   0, ...,  40,  22,  31],\n",
              "       [  0,   0,   0, ...,  22,  31,  20]], dtype=int32)"
            ]
          },
          "metadata": {},
          "execution_count": 8
        }
      ]
    },
    {
      "cell_type": "code",
      "source": [
        "X = padded_sequence[:,:-1]\n",
        "y = padded_sequence[:,-1]"
      ],
      "metadata": {
        "id": "rgoKpqAF30mD"
      },
      "execution_count": 9,
      "outputs": []
    },
    {
      "cell_type": "code",
      "source": [
        "X.shape"
      ],
      "metadata": {
        "colab": {
          "base_uri": "https://localhost:8080/"
        },
        "id": "XHl9LsvP4FKT",
        "outputId": "a70423d7-da66-48f1-a36a-0bd86124671f"
      },
      "execution_count": 10,
      "outputs": [
        {
          "output_type": "execute_result",
          "data": {
            "text/plain": [
              "(876, 30)"
            ]
          },
          "metadata": {},
          "execution_count": 10
        }
      ]
    },
    {
      "cell_type": "code",
      "source": [
        "y.shape"
      ],
      "metadata": {
        "colab": {
          "base_uri": "https://localhost:8080/"
        },
        "id": "zYw_hMs-4GKD",
        "outputId": "b2ac670e-f34f-4cda-f245-b3a5aa36e4b1"
      },
      "execution_count": 11,
      "outputs": [
        {
          "output_type": "execute_result",
          "data": {
            "text/plain": [
              "(876,)"
            ]
          },
          "metadata": {},
          "execution_count": 11
        }
      ]
    },
    {
      "cell_type": "code",
      "source": [
        "# One_Hot_Encoding using tensorflow\n",
        "\n",
        "from tensorflow.keras.utils import to_categorical"
      ],
      "metadata": {
        "id": "pcGLU-Hh4Hf7"
      },
      "execution_count": 12,
      "outputs": []
    },
    {
      "cell_type": "code",
      "source": [
        "y = to_categorical(y,num_classes=len(token.word_index)+1)"
      ],
      "metadata": {
        "id": "xFBqJZ084eA6"
      },
      "execution_count": 13,
      "outputs": []
    },
    {
      "cell_type": "code",
      "source": [
        "y"
      ],
      "metadata": {
        "colab": {
          "base_uri": "https://localhost:8080/"
        },
        "id": "5-kQvxIk4vhq",
        "outputId": "407a797f-1db3-4b61-af12-9eae2d391ea6"
      },
      "execution_count": 14,
      "outputs": [
        {
          "output_type": "execute_result",
          "data": {
            "text/plain": [
              "array([[0., 0., 0., ..., 0., 0., 0.],\n",
              "       [0., 0., 0., ..., 0., 0., 0.],\n",
              "       [0., 0., 0., ..., 0., 0., 0.],\n",
              "       ...,\n",
              "       [0., 0., 0., ..., 0., 0., 0.],\n",
              "       [0., 0., 0., ..., 0., 0., 0.],\n",
              "       [0., 0., 0., ..., 0., 0., 0.]])"
            ]
          },
          "metadata": {},
          "execution_count": 14
        }
      ]
    },
    {
      "cell_type": "code",
      "source": [
        "from tensorflow.keras import Sequential\n",
        "from tensorflow.keras.layers import Embedding, Dense, LSTM"
      ],
      "metadata": {
        "id": "RXZIIFxh4xtS"
      },
      "execution_count": 15,
      "outputs": []
    },
    {
      "cell_type": "code",
      "source": [
        "model = Sequential()"
      ],
      "metadata": {
        "id": "IcaFlauA5AuC"
      },
      "execution_count": 16,
      "outputs": []
    },
    {
      "cell_type": "code",
      "source": [
        "model.add(Embedding(input_dim = len(token.word_index)+1, output_dim = 150, input_length=max_len-1))\n",
        "model.add(LSTM(200))\n",
        "model.add(Dense(len(token.word_index)+1, activation='softmax'))"
      ],
      "metadata": {
        "colab": {
          "base_uri": "https://localhost:8080/"
        },
        "id": "zO60UYlr5EhZ",
        "outputId": "0bb64ba0-24f7-4f33-da0e-24c36f587b4f"
      },
      "execution_count": 17,
      "outputs": [
        {
          "output_type": "stream",
          "name": "stderr",
          "text": [
            "/usr/local/lib/python3.11/dist-packages/keras/src/layers/core/embedding.py:90: UserWarning: Argument `input_length` is deprecated. Just remove it.\n",
            "  warnings.warn(\n"
          ]
        }
      ]
    },
    {
      "cell_type": "code",
      "source": [
        "model.compile(optimizer='adam', loss='categorical_crossentropy', metrics=['accuracy'])"
      ],
      "metadata": {
        "id": "AE_vOQSY5WeI"
      },
      "execution_count": 18,
      "outputs": []
    },
    {
      "cell_type": "code",
      "source": [
        "model.fit(X,y,epochs = 50)"
      ],
      "metadata": {
        "colab": {
          "base_uri": "https://localhost:8080/"
        },
        "id": "hIjKiBAo5Yu5",
        "outputId": "b31e0508-8617-4077-fca2-0734d837c30d"
      },
      "execution_count": 19,
      "outputs": [
        {
          "output_type": "stream",
          "name": "stdout",
          "text": [
            "Epoch 1/50\n",
            "\u001b[1m28/28\u001b[0m \u001b[32m━━━━━━━━━━━━━━━━━━━━\u001b[0m\u001b[37m\u001b[0m \u001b[1m5s\u001b[0m 80ms/step - accuracy: 0.0126 - loss: 6.1489\n",
            "Epoch 2/50\n",
            "\u001b[1m28/28\u001b[0m \u001b[32m━━━━━━━━━━━━━━━━━━━━\u001b[0m\u001b[37m\u001b[0m \u001b[1m2s\u001b[0m 79ms/step - accuracy: 0.0453 - loss: 5.7322\n",
            "Epoch 3/50\n",
            "\u001b[1m28/28\u001b[0m \u001b[32m━━━━━━━━━━━━━━━━━━━━\u001b[0m\u001b[37m\u001b[0m \u001b[1m4s\u001b[0m 127ms/step - accuracy: 0.0494 - loss: 5.6690\n",
            "Epoch 4/50\n",
            "\u001b[1m28/28\u001b[0m \u001b[32m━━━━━━━━━━━━━━━━━━━━\u001b[0m\u001b[37m\u001b[0m \u001b[1m4s\u001b[0m 78ms/step - accuracy: 0.0589 - loss: 5.5902\n",
            "Epoch 5/50\n",
            "\u001b[1m28/28\u001b[0m \u001b[32m━━━━━━━━━━━━━━━━━━━━\u001b[0m\u001b[37m\u001b[0m \u001b[1m2s\u001b[0m 80ms/step - accuracy: 0.0598 - loss: 5.5287\n",
            "Epoch 6/50\n",
            "\u001b[1m28/28\u001b[0m \u001b[32m━━━━━━━━━━━━━━━━━━━━\u001b[0m\u001b[37m\u001b[0m \u001b[1m3s\u001b[0m 80ms/step - accuracy: 0.0541 - loss: 5.4542\n",
            "Epoch 7/50\n",
            "\u001b[1m28/28\u001b[0m \u001b[32m━━━━━━━━━━━━━━━━━━━━\u001b[0m\u001b[37m\u001b[0m \u001b[1m2s\u001b[0m 85ms/step - accuracy: 0.0457 - loss: 5.2897\n",
            "Epoch 8/50\n",
            "\u001b[1m28/28\u001b[0m \u001b[32m━━━━━━━━━━━━━━━━━━━━\u001b[0m\u001b[37m\u001b[0m \u001b[1m3s\u001b[0m 114ms/step - accuracy: 0.0596 - loss: 5.1967\n",
            "Epoch 9/50\n",
            "\u001b[1m28/28\u001b[0m \u001b[32m━━━━━━━━━━━━━━━━━━━━\u001b[0m\u001b[37m\u001b[0m \u001b[1m4s\u001b[0m 80ms/step - accuracy: 0.0812 - loss: 4.9361\n",
            "Epoch 10/50\n",
            "\u001b[1m28/28\u001b[0m \u001b[32m━━━━━━━━━━━━━━━━━━━━\u001b[0m\u001b[37m\u001b[0m \u001b[1m2s\u001b[0m 81ms/step - accuracy: 0.1053 - loss: 4.6311\n",
            "Epoch 11/50\n",
            "\u001b[1m28/28\u001b[0m \u001b[32m━━━━━━━━━━━━━━━━━━━━\u001b[0m\u001b[37m\u001b[0m \u001b[1m2s\u001b[0m 83ms/step - accuracy: 0.1151 - loss: 4.4480\n",
            "Epoch 12/50\n",
            "\u001b[1m28/28\u001b[0m \u001b[32m━━━━━━━━━━━━━━━━━━━━\u001b[0m\u001b[37m\u001b[0m \u001b[1m4s\u001b[0m 130ms/step - accuracy: 0.1281 - loss: 4.1614\n",
            "Epoch 13/50\n",
            "\u001b[1m28/28\u001b[0m \u001b[32m━━━━━━━━━━━━━━━━━━━━\u001b[0m\u001b[37m\u001b[0m \u001b[1m2s\u001b[0m 80ms/step - accuracy: 0.1683 - loss: 3.9662\n",
            "Epoch 14/50\n",
            "\u001b[1m28/28\u001b[0m \u001b[32m━━━━━━━━━━━━━━━━━━━━\u001b[0m\u001b[37m\u001b[0m \u001b[1m3s\u001b[0m 81ms/step - accuracy: 0.2237 - loss: 3.5936\n",
            "Epoch 15/50\n",
            "\u001b[1m28/28\u001b[0m \u001b[32m━━━━━━━━━━━━━━━━━━━━\u001b[0m\u001b[37m\u001b[0m \u001b[1m3s\u001b[0m 79ms/step - accuracy: 0.3032 - loss: 3.3448\n",
            "Epoch 16/50\n",
            "\u001b[1m28/28\u001b[0m \u001b[32m━━━━━━━━━━━━━━━━━━━━\u001b[0m\u001b[37m\u001b[0m \u001b[1m2s\u001b[0m 80ms/step - accuracy: 0.3429 - loss: 3.1171\n",
            "Epoch 17/50\n",
            "\u001b[1m28/28\u001b[0m \u001b[32m━━━━━━━━━━━━━━━━━━━━\u001b[0m\u001b[37m\u001b[0m \u001b[1m4s\u001b[0m 120ms/step - accuracy: 0.4369 - loss: 2.7933\n",
            "Epoch 18/50\n",
            "\u001b[1m28/28\u001b[0m \u001b[32m━━━━━━━━━━━━━━━━━━━━\u001b[0m\u001b[37m\u001b[0m \u001b[1m4s\u001b[0m 81ms/step - accuracy: 0.5051 - loss: 2.5513\n",
            "Epoch 19/50\n",
            "\u001b[1m28/28\u001b[0m \u001b[32m━━━━━━━━━━━━━━━━━━━━\u001b[0m\u001b[37m\u001b[0m \u001b[1m2s\u001b[0m 80ms/step - accuracy: 0.6218 - loss: 2.2672\n",
            "Epoch 20/50\n",
            "\u001b[1m28/28\u001b[0m \u001b[32m━━━━━━━━━━━━━━━━━━━━\u001b[0m\u001b[37m\u001b[0m \u001b[1m3s\u001b[0m 79ms/step - accuracy: 0.6797 - loss: 2.0601\n",
            "Epoch 21/50\n",
            "\u001b[1m28/28\u001b[0m \u001b[32m━━━━━━━━━━━━━━━━━━━━\u001b[0m\u001b[37m\u001b[0m \u001b[1m3s\u001b[0m 123ms/step - accuracy: 0.7517 - loss: 1.8348\n",
            "Epoch 22/50\n",
            "\u001b[1m28/28\u001b[0m \u001b[32m━━━━━━━━━━━━━━━━━━━━\u001b[0m\u001b[37m\u001b[0m \u001b[1m4s\u001b[0m 79ms/step - accuracy: 0.8208 - loss: 1.6798\n",
            "Epoch 23/50\n",
            "\u001b[1m28/28\u001b[0m \u001b[32m━━━━━━━━━━━━━━━━━━━━\u001b[0m\u001b[37m\u001b[0m \u001b[1m2s\u001b[0m 78ms/step - accuracy: 0.8520 - loss: 1.4669\n",
            "Epoch 24/50\n",
            "\u001b[1m28/28\u001b[0m \u001b[32m━━━━━━━━━━━━━━━━━━━━\u001b[0m\u001b[37m\u001b[0m \u001b[1m2s\u001b[0m 81ms/step - accuracy: 0.8828 - loss: 1.2922\n",
            "Epoch 25/50\n",
            "\u001b[1m28/28\u001b[0m \u001b[32m━━━━━━━━━━━━━━━━━━━━\u001b[0m\u001b[37m\u001b[0m \u001b[1m3s\u001b[0m 101ms/step - accuracy: 0.8904 - loss: 1.1994\n",
            "Epoch 26/50\n",
            "\u001b[1m28/28\u001b[0m \u001b[32m━━━━━━━━━━━━━━━━━━━━\u001b[0m\u001b[37m\u001b[0m \u001b[1m3s\u001b[0m 102ms/step - accuracy: 0.9170 - loss: 1.0531\n",
            "Epoch 27/50\n",
            "\u001b[1m28/28\u001b[0m \u001b[32m━━━━━━━━━━━━━━━━━━━━\u001b[0m\u001b[37m\u001b[0m \u001b[1m4s\u001b[0m 81ms/step - accuracy: 0.9219 - loss: 0.9487\n",
            "Epoch 28/50\n",
            "\u001b[1m28/28\u001b[0m \u001b[32m━━━━━━━━━━━━━━━━━━━━\u001b[0m\u001b[37m\u001b[0m \u001b[1m3s\u001b[0m 85ms/step - accuracy: 0.9379 - loss: 0.8485\n",
            "Epoch 29/50\n",
            "\u001b[1m28/28\u001b[0m \u001b[32m━━━━━━━━━━━━━━━━━━━━\u001b[0m\u001b[37m\u001b[0m \u001b[1m3s\u001b[0m 99ms/step - accuracy: 0.9543 - loss: 0.7644\n",
            "Epoch 30/50\n",
            "\u001b[1m28/28\u001b[0m \u001b[32m━━━━━━━━━━━━━━━━━━━━\u001b[0m\u001b[37m\u001b[0m \u001b[1m3s\u001b[0m 107ms/step - accuracy: 0.9576 - loss: 0.6625\n",
            "Epoch 31/50\n",
            "\u001b[1m28/28\u001b[0m \u001b[32m━━━━━━━━━━━━━━━━━━━━\u001b[0m\u001b[37m\u001b[0m \u001b[1m2s\u001b[0m 80ms/step - accuracy: 0.9644 - loss: 0.5841\n",
            "Epoch 32/50\n",
            "\u001b[1m28/28\u001b[0m \u001b[32m━━━━━━━━━━━━━━━━━━━━\u001b[0m\u001b[37m\u001b[0m \u001b[1m2s\u001b[0m 80ms/step - accuracy: 0.9758 - loss: 0.5159\n",
            "Epoch 33/50\n",
            "\u001b[1m28/28\u001b[0m \u001b[32m━━━━━━━━━━━━━━━━━━━━\u001b[0m\u001b[37m\u001b[0m \u001b[1m2s\u001b[0m 80ms/step - accuracy: 0.9788 - loss: 0.5022\n",
            "Epoch 34/50\n",
            "\u001b[1m28/28\u001b[0m \u001b[32m━━━━━━━━━━━━━━━━━━━━\u001b[0m\u001b[37m\u001b[0m \u001b[1m2s\u001b[0m 86ms/step - accuracy: 0.9716 - loss: 0.4610\n",
            "Epoch 35/50\n",
            "\u001b[1m28/28\u001b[0m \u001b[32m━━━━━━━━━━━━━━━━━━━━\u001b[0m\u001b[37m\u001b[0m \u001b[1m3s\u001b[0m 119ms/step - accuracy: 0.9783 - loss: 0.4076\n",
            "Epoch 36/50\n",
            "\u001b[1m28/28\u001b[0m \u001b[32m━━━━━━━━━━━━━━━━━━━━\u001b[0m\u001b[37m\u001b[0m \u001b[1m2s\u001b[0m 80ms/step - accuracy: 0.9771 - loss: 0.3819\n",
            "Epoch 37/50\n",
            "\u001b[1m28/28\u001b[0m \u001b[32m━━━━━━━━━━━━━━━━━━━━\u001b[0m\u001b[37m\u001b[0m \u001b[1m3s\u001b[0m 81ms/step - accuracy: 0.9847 - loss: 0.3445\n",
            "Epoch 38/50\n",
            "\u001b[1m28/28\u001b[0m \u001b[32m━━━━━━━━━━━━━━━━━━━━\u001b[0m\u001b[37m\u001b[0m \u001b[1m3s\u001b[0m 81ms/step - accuracy: 0.9754 - loss: 0.3394\n",
            "Epoch 39/50\n",
            "\u001b[1m28/28\u001b[0m \u001b[32m━━━━━━━━━━━━━━━━━━━━\u001b[0m\u001b[37m\u001b[0m \u001b[1m3s\u001b[0m 98ms/step - accuracy: 0.9748 - loss: 0.2980\n",
            "Epoch 40/50\n",
            "\u001b[1m28/28\u001b[0m \u001b[32m━━━━━━━━━━━━━━━━━━━━\u001b[0m\u001b[37m\u001b[0m \u001b[1m3s\u001b[0m 105ms/step - accuracy: 0.9800 - loss: 0.2754\n",
            "Epoch 41/50\n",
            "\u001b[1m28/28\u001b[0m \u001b[32m━━━━━━━━━━━━━━━━━━━━\u001b[0m\u001b[37m\u001b[0m \u001b[1m2s\u001b[0m 80ms/step - accuracy: 0.9809 - loss: 0.2545\n",
            "Epoch 42/50\n",
            "\u001b[1m28/28\u001b[0m \u001b[32m━━━━━━━━━━━━━━━━━━━━\u001b[0m\u001b[37m\u001b[0m \u001b[1m2s\u001b[0m 80ms/step - accuracy: 0.9892 - loss: 0.2313\n",
            "Epoch 43/50\n",
            "\u001b[1m28/28\u001b[0m \u001b[32m━━━━━━━━━━━━━━━━━━━━\u001b[0m\u001b[37m\u001b[0m \u001b[1m2s\u001b[0m 80ms/step - accuracy: 0.9767 - loss: 0.2335\n",
            "Epoch 44/50\n",
            "\u001b[1m28/28\u001b[0m \u001b[32m━━━━━━━━━━━━━━━━━━━━\u001b[0m\u001b[37m\u001b[0m \u001b[1m3s\u001b[0m 93ms/step - accuracy: 0.9733 - loss: 0.2173\n",
            "Epoch 45/50\n",
            "\u001b[1m28/28\u001b[0m \u001b[32m━━━━━━━━━━━━━━━━━━━━\u001b[0m\u001b[37m\u001b[0m \u001b[1m5s\u001b[0m 80ms/step - accuracy: 0.9828 - loss: 0.1979\n",
            "Epoch 46/50\n",
            "\u001b[1m28/28\u001b[0m \u001b[32m━━━━━━━━━━━━━━━━━━━━\u001b[0m\u001b[37m\u001b[0m \u001b[1m2s\u001b[0m 81ms/step - accuracy: 0.9805 - loss: 0.1767\n",
            "Epoch 47/50\n",
            "\u001b[1m28/28\u001b[0m \u001b[32m━━━━━━━━━━━━━━━━━━━━\u001b[0m\u001b[37m\u001b[0m \u001b[1m3s\u001b[0m 80ms/step - accuracy: 0.9857 - loss: 0.1679\n",
            "Epoch 48/50\n",
            "\u001b[1m28/28\u001b[0m \u001b[32m━━━━━━━━━━━━━━━━━━━━\u001b[0m\u001b[37m\u001b[0m \u001b[1m3s\u001b[0m 97ms/step - accuracy: 0.9846 - loss: 0.1655\n",
            "Epoch 49/50\n",
            "\u001b[1m28/28\u001b[0m \u001b[32m━━━━━━━━━━━━━━━━━━━━\u001b[0m\u001b[37m\u001b[0m \u001b[1m3s\u001b[0m 107ms/step - accuracy: 0.9777 - loss: 0.1638\n",
            "Epoch 50/50\n",
            "\u001b[1m28/28\u001b[0m \u001b[32m━━━━━━━━━━━━━━━━━━━━\u001b[0m\u001b[37m\u001b[0m \u001b[1m4s\u001b[0m 79ms/step - accuracy: 0.9838 - loss: 0.1462\n"
          ]
        },
        {
          "output_type": "execute_result",
          "data": {
            "text/plain": [
              "<keras.src.callbacks.history.History at 0x7a1bcbf98750>"
            ]
          },
          "metadata": {},
          "execution_count": 19
        }
      ]
    },
    {
      "cell_type": "code",
      "source": [
        "txt = \"Ultimately\"\n",
        "# tokenize\n",
        "import time\n",
        "\n",
        "for i in range(20):\n",
        "  token_txt = token.texts_to_sequences([txt])[0]\n",
        "  # ppadding\n",
        "  padded_txt = pad_sequences([token_txt],maxlen=max_len-1,padding=\"pre\")\n",
        "  # predict\n",
        "  import numpy as np\n",
        "  pos = np.argmax(model.predict(padded_txt))\n",
        "\n",
        "\n",
        "  for word,index in token.word_index.items():\n",
        "    if index == pos:\n",
        "      txt = txt + \" \" + word\n",
        "      print(txt)\n",
        "      time.sleep(2)"
      ],
      "metadata": {
        "colab": {
          "base_uri": "https://localhost:8080/"
        },
        "id": "XzC8_Ayi5c5Y",
        "outputId": "ecd2e788-7dab-4324-e930-6f8faa3e2a29"
      },
      "execution_count": 20,
      "outputs": [
        {
          "output_type": "stream",
          "name": "stdout",
          "text": [
            "\u001b[1m1/1\u001b[0m \u001b[32m━━━━━━━━━━━━━━━━━━━━\u001b[0m\u001b[37m\u001b[0m \u001b[1m0s\u001b[0m 239ms/step\n",
            "Ultimately the\n",
            "\u001b[1m1/1\u001b[0m \u001b[32m━━━━━━━━━━━━━━━━━━━━\u001b[0m\u001b[37m\u001b[0m \u001b[1m0s\u001b[0m 49ms/step\n",
            "Ultimately the integration\n",
            "\u001b[1m1/1\u001b[0m \u001b[32m━━━━━━━━━━━━━━━━━━━━\u001b[0m\u001b[37m\u001b[0m \u001b[1m0s\u001b[0m 42ms/step\n",
            "Ultimately the integration of\n",
            "\u001b[1m1/1\u001b[0m \u001b[32m━━━━━━━━━━━━━━━━━━━━\u001b[0m\u001b[37m\u001b[0m \u001b[1m0s\u001b[0m 42ms/step\n",
            "Ultimately the integration of ai\n",
            "\u001b[1m1/1\u001b[0m \u001b[32m━━━━━━━━━━━━━━━━━━━━\u001b[0m\u001b[37m\u001b[0m \u001b[1m0s\u001b[0m 71ms/step\n",
            "Ultimately the integration of ai into\n",
            "\u001b[1m1/1\u001b[0m \u001b[32m━━━━━━━━━━━━━━━━━━━━\u001b[0m\u001b[37m\u001b[0m \u001b[1m0s\u001b[0m 42ms/step\n",
            "Ultimately the integration of ai into education\n",
            "\u001b[1m1/1\u001b[0m \u001b[32m━━━━━━━━━━━━━━━━━━━━\u001b[0m\u001b[37m\u001b[0m \u001b[1m0s\u001b[0m 41ms/step\n",
            "Ultimately the integration of ai into education is\n",
            "\u001b[1m1/1\u001b[0m \u001b[32m━━━━━━━━━━━━━━━━━━━━\u001b[0m\u001b[37m\u001b[0m \u001b[1m0s\u001b[0m 41ms/step\n",
            "Ultimately the integration of ai into education is not\n",
            "\u001b[1m1/1\u001b[0m \u001b[32m━━━━━━━━━━━━━━━━━━━━\u001b[0m\u001b[37m\u001b[0m \u001b[1m0s\u001b[0m 45ms/step\n",
            "Ultimately the integration of ai into education is not just\n",
            "\u001b[1m1/1\u001b[0m \u001b[32m━━━━━━━━━━━━━━━━━━━━\u001b[0m\u001b[37m\u001b[0m \u001b[1m0s\u001b[0m 60ms/step\n",
            "Ultimately the integration of ai into education is not just a\n",
            "\u001b[1m1/1\u001b[0m \u001b[32m━━━━━━━━━━━━━━━━━━━━\u001b[0m\u001b[37m\u001b[0m \u001b[1m0s\u001b[0m 41ms/step\n",
            "Ultimately the integration of ai into education is not just a technological\n",
            "\u001b[1m1/1\u001b[0m \u001b[32m━━━━━━━━━━━━━━━━━━━━\u001b[0m\u001b[37m\u001b[0m \u001b[1m0s\u001b[0m 43ms/step\n",
            "Ultimately the integration of ai into education is not just a technological shift\n",
            "\u001b[1m1/1\u001b[0m \u001b[32m━━━━━━━━━━━━━━━━━━━━\u001b[0m\u001b[37m\u001b[0m \u001b[1m0s\u001b[0m 41ms/step\n",
            "Ultimately the integration of ai into education is not just a technological shift but\n",
            "\u001b[1m1/1\u001b[0m \u001b[32m━━━━━━━━━━━━━━━━━━━━\u001b[0m\u001b[37m\u001b[0m \u001b[1m0s\u001b[0m 44ms/step\n",
            "Ultimately the integration of ai into education is not just a technological shift but a\n",
            "\u001b[1m1/1\u001b[0m \u001b[32m━━━━━━━━━━━━━━━━━━━━\u001b[0m\u001b[37m\u001b[0m \u001b[1m0s\u001b[0m 44ms/step\n",
            "Ultimately the integration of ai into education is not just a technological shift but a cultural\n",
            "\u001b[1m1/1\u001b[0m \u001b[32m━━━━━━━━━━━━━━━━━━━━\u001b[0m\u001b[37m\u001b[0m \u001b[1m0s\u001b[0m 77ms/step\n",
            "Ultimately the integration of ai into education is not just a technological shift but a cultural and\n",
            "\u001b[1m1/1\u001b[0m \u001b[32m━━━━━━━━━━━━━━━━━━━━\u001b[0m\u001b[37m\u001b[0m \u001b[1m0s\u001b[0m 41ms/step\n",
            "Ultimately the integration of ai into education is not just a technological shift but a cultural and philosophical\n",
            "\u001b[1m1/1\u001b[0m \u001b[32m━━━━━━━━━━━━━━━━━━━━\u001b[0m\u001b[37m\u001b[0m \u001b[1m0s\u001b[0m 43ms/step\n",
            "Ultimately the integration of ai into education is not just a technological shift but a cultural and philosophical one\n",
            "\u001b[1m1/1\u001b[0m \u001b[32m━━━━━━━━━━━━━━━━━━━━\u001b[0m\u001b[37m\u001b[0m \u001b[1m0s\u001b[0m 42ms/step\n",
            "Ultimately the integration of ai into education is not just a technological shift but a cultural and philosophical one on\n",
            "\u001b[1m1/1\u001b[0m \u001b[32m━━━━━━━━━━━━━━━━━━━━\u001b[0m\u001b[37m\u001b[0m \u001b[1m0s\u001b[0m 41ms/step\n",
            "Ultimately the integration of ai into education is not just a technological shift but a cultural and philosophical one on one\n"
          ]
        }
      ]
    }
  ]
}